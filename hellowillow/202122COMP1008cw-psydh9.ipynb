{
 "cells": [
  {
   "cell_type": "markdown",
   "metadata": {},
   "source": [
    "# COMP1008 2021/22 Coursework - Predicting Salaries based on Census Data\n",
    "<b>Student Name</b>: Daniel Hartgrove<br>\n",
    "<b>Student ID</b>: 20331452\n",
    "\n",
    "## Task description\n",
    "\n",
    "Based on the census data from 9k people, build machine learning models to predict people's salary. Analyse the machine learning models in supporting better decision making.<br>\n",
    "    - <b>Dataset</b>: <a href=\"https://moodle.nottingham.ac.uk/pluginfile.php/7527571/mod_tabbedcontent/tabcontent/26383/data-Salaries.xlsx\">data-Salaries.xlsx</a>, available in Moodle COMP1008 page ('Course Content / Assessment'); Coursework issue <a href=\"https://moodle.nottingham.ac.uk/pluginfile.php/7527571/mod_tabbedcontent/tabcontent/26383/202122%20Assessment%20Sheet%20COMP1008.pdf?time=1645773629043\">form</a>.<br>\n",
    "    - Create a Jupyter Notebook file named '202122COMP1008cw-XXX.ipynb' (XXX is your username), using this Jupyter Notebook file as the template.<br>\n",
    "    - Write your report answering the below questions supported by the source codes displaying the corresponding plots or results.<br>\n",
    "    - Please check the detailed instructions at the end of this template file."
   ]
  },
  {
   "cell_type": "markdown",
   "metadata": {
    "tags": []
   },
   "source": [
    "## Question 1. Data Analysis and Preparation [30 marks]"
   ]
  },
  {
   "cell_type": "markdown",
   "metadata": {},
   "source": [
    "Import relevant libraries, and the datafile <a href=\"https://moodle.nottingham.ac.uk/pluginfile.php/7527571/mod_tabbedcontent/tabcontent/26383/data-Salaries.xlsx\">data-Salaries.xlsx</a> to asnwer the following questions.<br>\n",
    "Display your code which produces the results or the appropriate plottings to support your answers to the following questions."
   ]
  },
  {
   "cell_type": "code",
   "execution_count": 1,
   "metadata": {},
   "outputs": [],
   "source": [
    "# Imports\n",
    "import pandas as pd\n",
    "import numpy as np\n",
    "import matplotlib.pyplot as plt"
   ]
  },
  {
   "cell_type": "code",
   "execution_count": 2,
   "metadata": {},
   "outputs": [
    {
     "data": {
      "text/html": [
       "<div>\n",
       "<style scoped>\n",
       "    .dataframe tbody tr th:only-of-type {\n",
       "        vertical-align: middle;\n",
       "    }\n",
       "\n",
       "    .dataframe tbody tr th {\n",
       "        vertical-align: top;\n",
       "    }\n",
       "\n",
       "    .dataframe thead th {\n",
       "        text-align: right;\n",
       "    }\n",
       "</style>\n",
       "<table border=\"1\" class=\"dataframe\">\n",
       "  <thead>\n",
       "    <tr style=\"text-align: right;\">\n",
       "      <th></th>\n",
       "      <th>age</th>\n",
       "      <th>class</th>\n",
       "      <th>education</th>\n",
       "      <th>edu_no</th>\n",
       "      <th>marital</th>\n",
       "      <th>occupation</th>\n",
       "      <th>relationship</th>\n",
       "      <th>race</th>\n",
       "      <th>gender</th>\n",
       "      <th>hr_wk</th>\n",
       "      <th>salary</th>\n",
       "    </tr>\n",
       "  </thead>\n",
       "  <tbody>\n",
       "    <tr>\n",
       "      <th>0</th>\n",
       "      <td>25</td>\n",
       "      <td>1.0</td>\n",
       "      <td>11</td>\n",
       "      <td>7</td>\n",
       "      <td>Never-married</td>\n",
       "      <td>8.0</td>\n",
       "      <td>Own-child</td>\n",
       "      <td>Black</td>\n",
       "      <td>Male</td>\n",
       "      <td>40</td>\n",
       "      <td>&lt;=50K.</td>\n",
       "    </tr>\n",
       "    <tr>\n",
       "      <th>1</th>\n",
       "      <td>38</td>\n",
       "      <td>1.0</td>\n",
       "      <td>2</td>\n",
       "      <td>9</td>\n",
       "      <td>Married-civ-spouse</td>\n",
       "      <td>10.0</td>\n",
       "      <td>Husband</td>\n",
       "      <td>White</td>\n",
       "      <td>Male</td>\n",
       "      <td>50</td>\n",
       "      <td>&lt;=50K.</td>\n",
       "    </tr>\n",
       "    <tr>\n",
       "      <th>2</th>\n",
       "      <td>28</td>\n",
       "      <td>5.0</td>\n",
       "      <td>4</td>\n",
       "      <td>12</td>\n",
       "      <td>Married-civ-spouse</td>\n",
       "      <td>13.0</td>\n",
       "      <td>Husband</td>\n",
       "      <td>White</td>\n",
       "      <td>Male</td>\n",
       "      <td>40</td>\n",
       "      <td>&gt;50K.</td>\n",
       "    </tr>\n",
       "    <tr>\n",
       "      <th>3</th>\n",
       "      <td>44</td>\n",
       "      <td>1.0</td>\n",
       "      <td>8</td>\n",
       "      <td>10</td>\n",
       "      <td>Married-civ-spouse</td>\n",
       "      <td>8.0</td>\n",
       "      <td>Husband</td>\n",
       "      <td>Black</td>\n",
       "      <td>Male</td>\n",
       "      <td>40</td>\n",
       "      <td>&gt;50K.</td>\n",
       "    </tr>\n",
       "    <tr>\n",
       "      <th>4</th>\n",
       "      <td>34</td>\n",
       "      <td>1.0</td>\n",
       "      <td>10</td>\n",
       "      <td>6</td>\n",
       "      <td>Never-married</td>\n",
       "      <td>3.0</td>\n",
       "      <td>Not-in-family</td>\n",
       "      <td>White</td>\n",
       "      <td>Male</td>\n",
       "      <td>30</td>\n",
       "      <td>&lt;=50K.</td>\n",
       "    </tr>\n",
       "    <tr>\n",
       "      <th>...</th>\n",
       "      <td>...</td>\n",
       "      <td>...</td>\n",
       "      <td>...</td>\n",
       "      <td>...</td>\n",
       "      <td>...</td>\n",
       "      <td>...</td>\n",
       "      <td>...</td>\n",
       "      <td>...</td>\n",
       "      <td>...</td>\n",
       "      <td>...</td>\n",
       "      <td>...</td>\n",
       "    </tr>\n",
       "    <tr>\n",
       "      <th>9386</th>\n",
       "      <td>40</td>\n",
       "      <td>1.0</td>\n",
       "      <td>2</td>\n",
       "      <td>9</td>\n",
       "      <td>Married-civ-spouse</td>\n",
       "      <td>7.0</td>\n",
       "      <td>Husband</td>\n",
       "      <td>White</td>\n",
       "      <td>Male</td>\n",
       "      <td>45</td>\n",
       "      <td>&gt;50K.</td>\n",
       "    </tr>\n",
       "    <tr>\n",
       "      <th>9387</th>\n",
       "      <td>22</td>\n",
       "      <td>1.0</td>\n",
       "      <td>15</td>\n",
       "      <td>13</td>\n",
       "      <td>Married-civ-spouse</td>\n",
       "      <td>6.0</td>\n",
       "      <td>Wife</td>\n",
       "      <td>White</td>\n",
       "      <td>Female</td>\n",
       "      <td>40</td>\n",
       "      <td>&lt;=50K.</td>\n",
       "    </tr>\n",
       "    <tr>\n",
       "      <th>9388</th>\n",
       "      <td>21</td>\n",
       "      <td>1.0</td>\n",
       "      <td>8</td>\n",
       "      <td>10</td>\n",
       "      <td>Never-married</td>\n",
       "      <td>5.0</td>\n",
       "      <td>Own-child</td>\n",
       "      <td>White</td>\n",
       "      <td>Male</td>\n",
       "      <td>25</td>\n",
       "      <td>&lt;=50K.</td>\n",
       "    </tr>\n",
       "    <tr>\n",
       "      <th>9389</th>\n",
       "      <td>72</td>\n",
       "      <td>2.0</td>\n",
       "      <td>11</td>\n",
       "      <td>7</td>\n",
       "      <td>Married-civ-spouse</td>\n",
       "      <td>2.0</td>\n",
       "      <td>Husband</td>\n",
       "      <td>White</td>\n",
       "      <td>Male</td>\n",
       "      <td>20</td>\n",
       "      <td>&lt;=50K.</td>\n",
       "    </tr>\n",
       "    <tr>\n",
       "      <th>9390</th>\n",
       "      <td>28</td>\n",
       "      <td>2.0</td>\n",
       "      <td>8</td>\n",
       "      <td>10</td>\n",
       "      <td>Married-civ-spouse</td>\n",
       "      <td>2.0</td>\n",
       "      <td>Husband</td>\n",
       "      <td>White</td>\n",
       "      <td>Male</td>\n",
       "      <td>45</td>\n",
       "      <td>&gt;50K.</td>\n",
       "    </tr>\n",
       "  </tbody>\n",
       "</table>\n",
       "<p>9391 rows × 11 columns</p>\n",
       "</div>"
      ],
      "text/plain": [
       "      age  class  education  edu_no             marital  occupation  \\\n",
       "0      25    1.0         11       7       Never-married         8.0   \n",
       "1      38    1.0          2       9  Married-civ-spouse        10.0   \n",
       "2      28    5.0          4      12  Married-civ-spouse        13.0   \n",
       "3      44    1.0          8      10  Married-civ-spouse         8.0   \n",
       "4      34    1.0         10       6       Never-married         3.0   \n",
       "...   ...    ...        ...     ...                 ...         ...   \n",
       "9386   40    1.0          2       9  Married-civ-spouse         7.0   \n",
       "9387   22    1.0         15      13  Married-civ-spouse         6.0   \n",
       "9388   21    1.0          8      10       Never-married         5.0   \n",
       "9389   72    2.0         11       7  Married-civ-spouse         2.0   \n",
       "9390   28    2.0          8      10  Married-civ-spouse         2.0   \n",
       "\n",
       "       relationship   race  gender  hr_wk  salary  \n",
       "0         Own-child  Black    Male     40  <=50K.  \n",
       "1           Husband  White    Male     50  <=50K.  \n",
       "2           Husband  White    Male     40   >50K.  \n",
       "3           Husband  Black    Male     40   >50K.  \n",
       "4     Not-in-family  White    Male     30  <=50K.  \n",
       "...             ...    ...     ...    ...     ...  \n",
       "9386        Husband  White    Male     45   >50K.  \n",
       "9387           Wife  White  Female     40  <=50K.  \n",
       "9388      Own-child  White    Male     25  <=50K.  \n",
       "9389        Husband  White    Male     20  <=50K.  \n",
       "9390        Husband  White    Male     45   >50K.  \n",
       "\n",
       "[9391 rows x 11 columns]"
      ]
     },
     "execution_count": 2,
     "metadata": {},
     "output_type": "execute_result"
    }
   ],
   "source": [
    "#Create Data Frame\n",
    "salaries_df = pd.read_excel(\"data/data-Salaries.xlsx\")\n",
    "salaries_df"
   ]
  },
  {
   "cell_type": "markdown",
   "metadata": {},
   "source": [
    "<b>Question 1a</b> (6 marks)<br>\n",
    "    - What's the largest age group (e.g. 20-30 yrs old, 30-40 yrs old, etc.) in the data set? i.e. in which age group there are most people.<br>\n",
    "    - How long do most people work per week (e.g. 10-20 hrs per week, 20-30 hrs per week, etc.)?"
   ]
  },
  {
   "cell_type": "code",
   "execution_count": 3,
   "metadata": {
    "tags": []
   },
   "outputs": [
    {
     "data": {
      "image/png": "[encoded data removed]",
      "text/plain": [
       "<Figure size 432x288 with 1 Axes>"
      ]
     },
     "metadata": {
      "needs_background": "light"
     },
     "output_type": "display_data"
    }
   ],
   "source": [
    "# Part 1 - age group\n",
    "plt.hist(salaries_df['age'], cumulative = False, bins= [20, 30, 40, 50 ,60 ,70 ,80, 90, 100], rwidth=0.5, align = 'mid', label= 'age')\n",
    "plt.title('Age Groups That Work')\n",
    "plt.xlabel('Age Groups')\n",
    "plt.ylabel('Frequency')\n",
    "plt.show()\n"
   ]
  },
  {
   "cell_type": "markdown",
   "metadata": {},
   "source": [
    "- The largest age group is 30-40 years old\n",
    "</hr>"
   ]
  },
  {
   "cell_type": "code",
   "execution_count": 4,
   "metadata": {},
   "outputs": [
    {
     "data": {
      "text/plain": [
       "Text(0, 0.5, 'People working in the range')"
      ]
     },
     "execution_count": 4,
     "metadata": {},
     "output_type": "execute_result"
    },
    {
     "data": {
      "image/png": "[encoded data removed]",
      "text/plain": [
       "<Figure size 432x288 with 1 Axes>"
      ]
     },
     "metadata": {
      "needs_background": "light"
     },
     "output_type": "display_data"
    }
   ],
   "source": [
    "# Part 2 - hours\n",
    "plt.hist(salaries_df['hr_wk'], bins= [10 ,20, 30, 40, 50 ,60 ,70 ,80, 90, 100], rwidth=0.5)\n",
    "plt.title('Worked Hours Per Week')\n",
    "plt.xlabel('Hours')\n",
    "plt.ylabel('People working in the range')"
   ]
  },
  {
   "cell_type": "markdown",
   "metadata": {},
   "source": [
    "- Most people work between 40 and 50 hours a week, but this is because most people work 40 hours a week. My histogram takes the lower bound at 40. \n",
    "- I tested this by also plotting a histogram with bins range = [10 ,20, 30, 41, 50 ,60 ,70 ,80, 90, 100]"
   ]
  },
  {
   "cell_type": "markdown",
   "metadata": {},
   "source": [
    "<b>Question 1b</b> (9 marks)<br>\n",
    "    - On average, do female or male work longer hours per week (feature \"hr_wk\")?<br>\n",
    "    - In which marital status (feature \"marital\"), on average, do male work the longest hours per week (\"hr_wk\")?<br>\n",
    "    - On average, which working class (feature \"class\") is the oldest population? Are these people working the shortest hours per week?"
   ]
  },
  {
   "cell_type": "code",
   "execution_count": 5,
   "metadata": {
    "tags": []
   },
   "outputs": [
    {
     "data": {
      "text/html": [
       "<div>\n",
       "<style scoped>\n",
       "    .dataframe tbody tr th:only-of-type {\n",
       "        vertical-align: middle;\n",
       "    }\n",
       "\n",
       "    .dataframe tbody tr th {\n",
       "        vertical-align: top;\n",
       "    }\n",
       "\n",
       "    .dataframe thead th {\n",
       "        text-align: right;\n",
       "    }\n",
       "</style>\n",
       "<table border=\"1\" class=\"dataframe\">\n",
       "  <thead>\n",
       "    <tr style=\"text-align: right;\">\n",
       "      <th></th>\n",
       "      <th>age</th>\n",
       "      <th>class</th>\n",
       "      <th>education</th>\n",
       "      <th>edu_no</th>\n",
       "      <th>occupation</th>\n",
       "      <th>hr_wk</th>\n",
       "    </tr>\n",
       "    <tr>\n",
       "      <th>gender</th>\n",
       "      <th></th>\n",
       "      <th></th>\n",
       "      <th></th>\n",
       "      <th></th>\n",
       "      <th></th>\n",
       "      <th></th>\n",
       "    </tr>\n",
       "  </thead>\n",
       "  <tbody>\n",
       "    <tr>\n",
       "      <th>Female</th>\n",
       "      <td>37.127742</td>\n",
       "      <td>1.818974</td>\n",
       "      <td>7.470645</td>\n",
       "      <td>10.196129</td>\n",
       "      <td>5.874112</td>\n",
       "      <td>36.829677</td>\n",
       "    </tr>\n",
       "    <tr>\n",
       "      <th>Male</th>\n",
       "      <td>39.493403</td>\n",
       "      <td>1.767298</td>\n",
       "      <td>7.401208</td>\n",
       "      <td>10.245271</td>\n",
       "      <td>5.653094</td>\n",
       "      <td>43.107137</td>\n",
       "    </tr>\n",
       "  </tbody>\n",
       "</table>\n",
       "</div>"
      ],
      "text/plain": [
       "              age     class  education     edu_no  occupation      hr_wk\n",
       "gender                                                                  \n",
       "Female  37.127742  1.818974   7.470645  10.196129    5.874112  36.829677\n",
       "Male    39.493403  1.767298   7.401208  10.245271    5.653094  43.107137"
      ]
     },
     "execution_count": 5,
     "metadata": {},
     "output_type": "execute_result"
    }
   ],
   "source": [
    "# Part 1 - gender\n",
    "gender_df = salaries_df.groupby(\"gender\")\n",
    "mean_df = gender_df.mean()\n",
    "mean_df.head().sort_values(['hr_wk'])"
   ]
  },
  {
   "cell_type": "markdown",
   "metadata": {},
   "source": [
    "- On average, Males work more hours a week"
   ]
  },
  {
   "cell_type": "code",
   "execution_count": 6,
   "metadata": {
    "tags": []
   },
   "outputs": [
    {
     "data": {
      "text/html": [
       "<div>\n",
       "<style scoped>\n",
       "    .dataframe tbody tr th:only-of-type {\n",
       "        vertical-align: middle;\n",
       "    }\n",
       "\n",
       "    .dataframe tbody tr th {\n",
       "        vertical-align: top;\n",
       "    }\n",
       "\n",
       "    .dataframe thead th {\n",
       "        text-align: right;\n",
       "    }\n",
       "</style>\n",
       "<table border=\"1\" class=\"dataframe\">\n",
       "  <thead>\n",
       "    <tr style=\"text-align: right;\">\n",
       "      <th></th>\n",
       "      <th>age</th>\n",
       "      <th>class</th>\n",
       "      <th>education</th>\n",
       "      <th>edu_no</th>\n",
       "      <th>occupation</th>\n",
       "      <th>hr_wk</th>\n",
       "    </tr>\n",
       "    <tr>\n",
       "      <th>marital</th>\n",
       "      <th></th>\n",
       "      <th></th>\n",
       "      <th></th>\n",
       "      <th></th>\n",
       "      <th></th>\n",
       "      <th></th>\n",
       "    </tr>\n",
       "  </thead>\n",
       "  <tbody>\n",
       "    <tr>\n",
       "      <th>Married-AF-spouse</th>\n",
       "      <td>31.000000</td>\n",
       "      <td>1.000000</td>\n",
       "      <td>8.000000</td>\n",
       "      <td>10.000000</td>\n",
       "      <td>2.000000</td>\n",
       "      <td>28.000000</td>\n",
       "    </tr>\n",
       "    <tr>\n",
       "      <th>Never-married</th>\n",
       "      <td>28.387597</td>\n",
       "      <td>1.576119</td>\n",
       "      <td>7.395945</td>\n",
       "      <td>10.026834</td>\n",
       "      <td>5.591642</td>\n",
       "      <td>38.916518</td>\n",
       "    </tr>\n",
       "    <tr>\n",
       "      <th>Widowed</th>\n",
       "      <td>59.500000</td>\n",
       "      <td>1.890625</td>\n",
       "      <td>6.750000</td>\n",
       "      <td>9.906250</td>\n",
       "      <td>5.796875</td>\n",
       "      <td>40.156250</td>\n",
       "    </tr>\n",
       "    <tr>\n",
       "      <th>Married-spouse-absent</th>\n",
       "      <td>42.525000</td>\n",
       "      <td>1.600000</td>\n",
       "      <td>6.750000</td>\n",
       "      <td>10.225000</td>\n",
       "      <td>5.675000</td>\n",
       "      <td>41.450000</td>\n",
       "    </tr>\n",
       "    <tr>\n",
       "      <th>Divorced</th>\n",
       "      <td>42.356190</td>\n",
       "      <td>1.699048</td>\n",
       "      <td>7.045714</td>\n",
       "      <td>10.135238</td>\n",
       "      <td>5.569524</td>\n",
       "      <td>43.156190</td>\n",
       "    </tr>\n",
       "    <tr>\n",
       "      <th>Separated</th>\n",
       "      <td>37.983471</td>\n",
       "      <td>1.694215</td>\n",
       "      <td>5.834711</td>\n",
       "      <td>9.495868</td>\n",
       "      <td>5.644628</td>\n",
       "      <td>43.752066</td>\n",
       "    </tr>\n",
       "    <tr>\n",
       "      <th>Married-civ-spouse</th>\n",
       "      <td>43.612218</td>\n",
       "      <td>1.861694</td>\n",
       "      <td>7.518250</td>\n",
       "      <td>10.384416</td>\n",
       "      <td>5.689718</td>\n",
       "      <td>44.969454</td>\n",
       "    </tr>\n",
       "  </tbody>\n",
       "</table>\n",
       "</div>"
      ],
      "text/plain": [
       "                             age     class  education     edu_no  occupation  \\\n",
       "marital                                                                        \n",
       " Married-AF-spouse     31.000000  1.000000   8.000000  10.000000    2.000000   \n",
       "Never-married          28.387597  1.576119   7.395945  10.026834    5.591642   \n",
       "Widowed                59.500000  1.890625   6.750000   9.906250    5.796875   \n",
       "Married-spouse-absent  42.525000  1.600000   6.750000  10.225000    5.675000   \n",
       "Divorced               42.356190  1.699048   7.045714  10.135238    5.569524   \n",
       "Separated              37.983471  1.694215   5.834711   9.495868    5.644628   \n",
       "Married-civ-spouse     43.612218  1.861694   7.518250  10.384416    5.689718   \n",
       "\n",
       "                           hr_wk  \n",
       "marital                           \n",
       " Married-AF-spouse     28.000000  \n",
       "Never-married          38.916518  \n",
       "Widowed                40.156250  \n",
       "Married-spouse-absent  41.450000  \n",
       "Divorced               43.156190  \n",
       "Separated              43.752066  \n",
       "Married-civ-spouse     44.969454  "
      ]
     },
     "execution_count": 6,
     "metadata": {},
     "output_type": "execute_result"
    }
   ],
   "source": [
    "#Part 2 - marital status of males\n",
    "data = []\n",
    "indexFemale = salaries_df[ salaries_df['gender'] == \"Female\" ].index\n",
    "new_df = salaries_df.copy()\n",
    "new_df.drop(indexFemale , inplace=True)\n",
    "new_df.groupby(['marital']).mean().sort_values(['hr_wk'])"
   ]
  },
  {
   "cell_type": "markdown",
   "metadata": {},
   "source": [
    "- As the table shows, the marital group with the highest hours a week is \"Married-civ-spouse\""
   ]
  },
  {
   "cell_type": "code",
   "execution_count": 7,
   "metadata": {},
   "outputs": [
    {
     "data": {
      "text/html": [
       "<div>\n",
       "<style scoped>\n",
       "    .dataframe tbody tr th:only-of-type {\n",
       "        vertical-align: middle;\n",
       "    }\n",
       "\n",
       "    .dataframe tbody tr th {\n",
       "        vertical-align: top;\n",
       "    }\n",
       "\n",
       "    .dataframe thead th {\n",
       "        text-align: right;\n",
       "    }\n",
       "</style>\n",
       "<table border=\"1\" class=\"dataframe\">\n",
       "  <thead>\n",
       "    <tr style=\"text-align: right;\">\n",
       "      <th></th>\n",
       "      <th>age</th>\n",
       "      <th>education</th>\n",
       "      <th>edu_no</th>\n",
       "      <th>occupation</th>\n",
       "      <th>hr_wk</th>\n",
       "    </tr>\n",
       "    <tr>\n",
       "      <th>class</th>\n",
       "      <th></th>\n",
       "      <th></th>\n",
       "      <th></th>\n",
       "      <th></th>\n",
       "      <th></th>\n",
       "    </tr>\n",
       "  </thead>\n",
       "  <tbody>\n",
       "    <tr>\n",
       "      <th>8.0</th>\n",
       "      <td>17.000000</td>\n",
       "      <td>11.000000</td>\n",
       "      <td>7.000000</td>\n",
       "      <td>NaN</td>\n",
       "      <td>20.000000</td>\n",
       "    </tr>\n",
       "    <tr>\n",
       "      <th>1.0</th>\n",
       "      <td>37.025951</td>\n",
       "      <td>7.159098</td>\n",
       "      <td>10.009142</td>\n",
       "      <td>5.572103</td>\n",
       "      <td>40.365674</td>\n",
       "    </tr>\n",
       "    <tr>\n",
       "      <th>6.0</th>\n",
       "      <td>39.378685</td>\n",
       "      <td>9.047619</td>\n",
       "      <td>11.356009</td>\n",
       "      <td>6.496599</td>\n",
       "      <td>38.616780</td>\n",
       "    </tr>\n",
       "    <tr>\n",
       "      <th>5.0</th>\n",
       "      <td>41.300000</td>\n",
       "      <td>8.786567</td>\n",
       "      <td>10.979104</td>\n",
       "      <td>6.889552</td>\n",
       "      <td>40.516418</td>\n",
       "    </tr>\n",
       "    <tr>\n",
       "      <th>4.0</th>\n",
       "      <td>42.707904</td>\n",
       "      <td>7.780069</td>\n",
       "      <td>10.731959</td>\n",
       "      <td>6.752577</td>\n",
       "      <td>41.807560</td>\n",
       "    </tr>\n",
       "    <tr>\n",
       "      <th>3.0</th>\n",
       "      <td>44.752022</td>\n",
       "      <td>8.237197</td>\n",
       "      <td>11.210243</td>\n",
       "      <td>5.056604</td>\n",
       "      <td>47.649596</td>\n",
       "    </tr>\n",
       "    <tr>\n",
       "      <th>2.0</th>\n",
       "      <td>45.930909</td>\n",
       "      <td>7.156364</td>\n",
       "      <td>10.238788</td>\n",
       "      <td>5.569697</td>\n",
       "      <td>45.084848</td>\n",
       "    </tr>\n",
       "    <tr>\n",
       "      <th>7.0</th>\n",
       "      <td>51.600000</td>\n",
       "      <td>3.400000</td>\n",
       "      <td>8.600000</td>\n",
       "      <td>6.400000</td>\n",
       "      <td>35.000000</td>\n",
       "    </tr>\n",
       "  </tbody>\n",
       "</table>\n",
       "</div>"
      ],
      "text/plain": [
       "             age  education     edu_no  occupation      hr_wk\n",
       "class                                                        \n",
       "8.0    17.000000  11.000000   7.000000         NaN  20.000000\n",
       "1.0    37.025951   7.159098  10.009142    5.572103  40.365674\n",
       "6.0    39.378685   9.047619  11.356009    6.496599  38.616780\n",
       "5.0    41.300000   8.786567  10.979104    6.889552  40.516418\n",
       "4.0    42.707904   7.780069  10.731959    6.752577  41.807560\n",
       "3.0    44.752022   8.237197  11.210243    5.056604  47.649596\n",
       "2.0    45.930909   7.156364  10.238788    5.569697  45.084848\n",
       "7.0    51.600000   3.400000   8.600000    6.400000  35.000000"
      ]
     },
     "execution_count": 7,
     "metadata": {},
     "output_type": "execute_result"
    }
   ],
   "source": [
    "#Part 3 - working class\n",
    "class_df = salaries_df.copy()\n",
    "class_df.replace(to_replace = np.nan, value = 0)\n",
    "class_df.groupby(['class']).mean().sort_values(['age'])"
   ]
  },
  {
   "cell_type": "markdown",
   "metadata": {},
   "source": [
    "- As the table shows, class 7.0 has the oldest working population. These people are working the shortest hours per week because we cannot consider class 8.0 (unemployed) as working. Coincidentally, class 7.0 also have the lowest class of education."
   ]
  },
  {
   "cell_type": "markdown",
   "metadata": {},
   "source": [
    "<b>Question 1c</b> (15 marks)<br>\n",
    "Use approporate functions in pandas and/or matplotlib libraries to analyse the dataset.<br>\n",
    "For building machine learning models:<br>\n",
    "    - What issues do you observe in which of the input features and/or output data? What would happen if the data is not pre-processed properly?<br>\n",
    "    - How do you pre-process the data to address these issues? Brielfy explain the data and the parameters for the functions you used to reveal and address the issues.<br>\n",
    "    - Brielf explain the prepared the data (what are the input and output data and their types) for building the models in Questions 2 - 3."
   ]
  },
  {
   "cell_type": "code",
   "execution_count": 8,
   "metadata": {},
   "outputs": [
    {
     "name": "stdout",
     "output_type": "stream",
     "text": [
      "['Never-married' 'Married-civ-spouse' 'Widowed' 'Separated' 'Divorced'\n",
      " 'Married-spouse-absent' ' Married-AF-spouse']\n"
     ]
    },
    {
     "data": {
      "text/html": [
       "<div>\n",
       "<style scoped>\n",
       "    .dataframe tbody tr th:only-of-type {\n",
       "        vertical-align: middle;\n",
       "    }\n",
       "\n",
       "    .dataframe tbody tr th {\n",
       "        vertical-align: top;\n",
       "    }\n",
       "\n",
       "    .dataframe thead th {\n",
       "        text-align: right;\n",
       "    }\n",
       "</style>\n",
       "<table border=\"1\" class=\"dataframe\">\n",
       "  <thead>\n",
       "    <tr style=\"text-align: right;\">\n",
       "      <th></th>\n",
       "      <th>age</th>\n",
       "      <th>class</th>\n",
       "      <th>education</th>\n",
       "      <th>edu_no</th>\n",
       "      <th>marital</th>\n",
       "      <th>occupation</th>\n",
       "      <th>gender</th>\n",
       "      <th>hr_wk</th>\n",
       "      <th>salary</th>\n",
       "    </tr>\n",
       "  </thead>\n",
       "  <tbody>\n",
       "    <tr>\n",
       "      <th>0</th>\n",
       "      <td>25</td>\n",
       "      <td>1</td>\n",
       "      <td>11</td>\n",
       "      <td>7</td>\n",
       "      <td>0</td>\n",
       "      <td>8</td>\n",
       "      <td>0</td>\n",
       "      <td>40</td>\n",
       "      <td>0</td>\n",
       "    </tr>\n",
       "    <tr>\n",
       "      <th>1</th>\n",
       "      <td>38</td>\n",
       "      <td>1</td>\n",
       "      <td>2</td>\n",
       "      <td>9</td>\n",
       "      <td>1</td>\n",
       "      <td>10</td>\n",
       "      <td>0</td>\n",
       "      <td>50</td>\n",
       "      <td>0</td>\n",
       "    </tr>\n",
       "    <tr>\n",
       "      <th>2</th>\n",
       "      <td>28</td>\n",
       "      <td>5</td>\n",
       "      <td>4</td>\n",
       "      <td>12</td>\n",
       "      <td>1</td>\n",
       "      <td>13</td>\n",
       "      <td>0</td>\n",
       "      <td>40</td>\n",
       "      <td>1</td>\n",
       "    </tr>\n",
       "    <tr>\n",
       "      <th>3</th>\n",
       "      <td>44</td>\n",
       "      <td>1</td>\n",
       "      <td>8</td>\n",
       "      <td>10</td>\n",
       "      <td>1</td>\n",
       "      <td>8</td>\n",
       "      <td>0</td>\n",
       "      <td>40</td>\n",
       "      <td>1</td>\n",
       "    </tr>\n",
       "    <tr>\n",
       "      <th>4</th>\n",
       "      <td>34</td>\n",
       "      <td>1</td>\n",
       "      <td>10</td>\n",
       "      <td>6</td>\n",
       "      <td>0</td>\n",
       "      <td>3</td>\n",
       "      <td>0</td>\n",
       "      <td>30</td>\n",
       "      <td>0</td>\n",
       "    </tr>\n",
       "    <tr>\n",
       "      <th>...</th>\n",
       "      <td>...</td>\n",
       "      <td>...</td>\n",
       "      <td>...</td>\n",
       "      <td>...</td>\n",
       "      <td>...</td>\n",
       "      <td>...</td>\n",
       "      <td>...</td>\n",
       "      <td>...</td>\n",
       "      <td>...</td>\n",
       "    </tr>\n",
       "    <tr>\n",
       "      <th>9386</th>\n",
       "      <td>40</td>\n",
       "      <td>1</td>\n",
       "      <td>2</td>\n",
       "      <td>9</td>\n",
       "      <td>1</td>\n",
       "      <td>7</td>\n",
       "      <td>0</td>\n",
       "      <td>45</td>\n",
       "      <td>1</td>\n",
       "    </tr>\n",
       "    <tr>\n",
       "      <th>9387</th>\n",
       "      <td>22</td>\n",
       "      <td>1</td>\n",
       "      <td>15</td>\n",
       "      <td>13</td>\n",
       "      <td>1</td>\n",
       "      <td>6</td>\n",
       "      <td>1</td>\n",
       "      <td>40</td>\n",
       "      <td>0</td>\n",
       "    </tr>\n",
       "    <tr>\n",
       "      <th>9388</th>\n",
       "      <td>21</td>\n",
       "      <td>1</td>\n",
       "      <td>8</td>\n",
       "      <td>10</td>\n",
       "      <td>0</td>\n",
       "      <td>5</td>\n",
       "      <td>0</td>\n",
       "      <td>25</td>\n",
       "      <td>0</td>\n",
       "    </tr>\n",
       "    <tr>\n",
       "      <th>9389</th>\n",
       "      <td>72</td>\n",
       "      <td>2</td>\n",
       "      <td>11</td>\n",
       "      <td>7</td>\n",
       "      <td>1</td>\n",
       "      <td>2</td>\n",
       "      <td>0</td>\n",
       "      <td>20</td>\n",
       "      <td>0</td>\n",
       "    </tr>\n",
       "    <tr>\n",
       "      <th>9390</th>\n",
       "      <td>28</td>\n",
       "      <td>2</td>\n",
       "      <td>8</td>\n",
       "      <td>10</td>\n",
       "      <td>1</td>\n",
       "      <td>2</td>\n",
       "      <td>0</td>\n",
       "      <td>45</td>\n",
       "      <td>1</td>\n",
       "    </tr>\n",
       "  </tbody>\n",
       "</table>\n",
       "<p>9391 rows × 9 columns</p>\n",
       "</div>"
      ],
      "text/plain": [
       "      age  class  education  edu_no  marital  occupation  gender  hr_wk  \\\n",
       "0      25      1         11       7        0           8       0     40   \n",
       "1      38      1          2       9        1          10       0     50   \n",
       "2      28      5          4      12        1          13       0     40   \n",
       "3      44      1          8      10        1           8       0     40   \n",
       "4      34      1         10       6        0           3       0     30   \n",
       "...   ...    ...        ...     ...      ...         ...     ...    ...   \n",
       "9386   40      1          2       9        1           7       0     45   \n",
       "9387   22      1         15      13        1           6       1     40   \n",
       "9388   21      1          8      10        0           5       0     25   \n",
       "9389   72      2         11       7        1           2       0     20   \n",
       "9390   28      2          8      10        1           2       0     45   \n",
       "\n",
       "      salary  \n",
       "0          0  \n",
       "1          0  \n",
       "2          1  \n",
       "3          1  \n",
       "4          0  \n",
       "...      ...  \n",
       "9386       1  \n",
       "9387       0  \n",
       "9388       0  \n",
       "9389       0  \n",
       "9390       1  \n",
       "\n",
       "[9391 rows x 9 columns]"
      ]
     },
     "execution_count": 8,
     "metadata": {},
     "output_type": "execute_result"
    }
   ],
   "source": [
    "# dropping the columns we have not proven or justified we need to look at...\n",
    "new_salaries_df = salaries_df.drop(columns = ['relationship', 'race'] )\n",
    "# I have dropped these columns are there is no real way to determine a numerical relationship in data of the average occupation\n",
    "# of a group as there is no way to know what these occupations are. There is no way to order relationship, race or marital status in numerically mapped values.\n",
    "print(new_salaries_df['marital'].unique())\n",
    "# cleaning the data so that a model can understand\n",
    "new_salaries_df['salary'] = new_salaries_df['salary'].map({'<=50K.':0, '>50K.':1})\n",
    "new_salaries_df['gender'] = new_salaries_df['gender'].map({'Male':0, 'Female':1})\n",
    "new_salaries_df['class'] = new_salaries_df['class'].map({np.nan : 0, 1.0: 1, 2.0: 2, 3.0: 3, 4.0: 4, 5.0:5, 6.0: 6, 7.0 : 7, 8.0 : 8})\n",
    "new_salaries_df['marital'] = new_salaries_df['marital'].map({'Married-civ-spouse' : 1, 'Never-married': 0, 'Widowed' : 2, 'Separated': 3, 'Divorced': 4, 'Married-spouse-absent' :5, ' Married-AF-spouse': 6})\n",
    "new_salaries_df['occupation'] = new_salaries_df['occupation'].map({np.nan : 0, 1.0 : 1, 2.0: 2, 3.0:3,4.0:4,5.0:5,6.0:6,7.0:7,8.0:8,9.0:9,10.0:10,11.0:11,12.0:12,13.0:13,14.0:14})\n",
    "new_salaries_df\n"
   ]
  },
  {
   "cell_type": "markdown",
   "metadata": {},
   "source": [
    "#### What issues do you observe in which of the input features and/or output data? What would happen if the data is not pre-processed properly?\n",
    "\n",
    "- Some of the Data has values such as NaN which is a null value. This cannot be handled by a linear regression model or machine learning algorithm. If the data was not preprocessed then the models would not be correctly trained and may even break. This can be changed by either deletion of the record as a null value or through mathematical process, replacing it. \n",
    "- There are some other parts of the data that are in the wrong format to be handled by a machine learning algorithm, notably string values. Categorical data in the form of a dummy value can be misread and should probably be changed in order for the process to work correctly.  The machine learning methods would otherwise not be able to read them and would return an error or break.\n",
    "\n",
    "\n",
    "#### How do you pre-process the data to address these issues? Brielfy explain the data and the parameters for the functions you used to reveal and address the issues.\n",
    "\n",
    "- We need to replace null values with actual values to represent null of the correct type, personally, I changed all ints to zero and all strings to '0'. This can be done using the df.map() function which takes in a series of values to map and what it is mapped to. I also dropped the columns 'relationship', 'occupation' and 'race' as ultimately these will not be needed. My justification for this is that there is no way to mathematically represent an average relationship status or an average occupation with the seemingly arbitrary values that they have been given, with no explaination.\n",
    "- I changed any set of data that had a set of values of type string to instead consist of those types of data in int form, sorting marital statuses into a group of 0 to 6, and below 50k earnings as -1 and above 50k as 1. I also changed male to be 0 and female to be 1. I did this using the map function which takes in a dictionary of the values to map, and their values to map to. For example: `map({'Male':0, 'Female':1})`\n",
    "- I noted that I would also need to create a new data frame for the next set of questions which did not contain salary, or else the model would find the best regression between x and itself (in theory). I did this by setting a variable = to df.drop['salary'] and then processing this new data frame instead.\n",
    "\n",
    "\n",
    "#### Briefly explain the prepared the data (what are the input and output data and their types) for building the models in Questions 2 - 3.\n",
    "\n",
    "- The new data consists entirely of integer values to represent the strings or exactly what is being shown. The input data will always be these integer values as a consequence. The Linear regression model will need to be trained on the set of these values as relevant to the model, likely having component x be the whole data frame (without 'salaries) and y being just 'salaries'.\n",
    "- The output data will vary between the models, but generally speaking there will either be a graph produced with values to represent how well the correlation is and how well the model is trained for question 2. Visually, Question 3 will produce a tree of all of the given outcomes.\n"
   ]
  },
  {
   "cell_type": "markdown",
   "metadata": {},
   "source": [
    "## Question 2. Linear Regression [20 marks]"
   ]
  },
  {
   "cell_type": "markdown",
   "metadata": {},
   "source": [
    "<b>Question 2a.</b> (5 marks) <br>\n",
    "Build a linear regression model to predict people's salary. Briefly explain the parameters in the functions used.<br>\n",
    "Explain breifly what input features and target output/labels are used in the training. What are the types of the input features?"
   ]
  },
  {
   "cell_type": "code",
   "execution_count": 9,
   "metadata": {},
   "outputs": [
    {
     "name": "stdout",
     "output_type": "stream",
     "text": [
      "The linear regression function learned between x an y is: y =  -0.35065725857557956  +  [0.05884437]  * x\n",
      "0.16898746856065675\n",
      "Which cross evaluates to: [0.17541881 0.16374455 0.16432744 0.16689758 0.1759918  0.1660755\n",
      " 0.1636748  0.16491168 0.179577   0.16442313]  with a mean cross score of: 0.1685042284898125 and a standard deviation of:  0.005726663255223175\n"
     ]
    },
    {
     "data": {
      "image/png": "[encoded data removed]",
      "text/plain": [
       "<Figure size 432x288 with 1 Axes>"
      ]
     },
     "metadata": {
      "needs_background": "light"
     },
     "output_type": "display_data"
    }
   ],
   "source": [
    "#imports\n",
    "import pandas as pd\n",
    "import numpy as np\n",
    "import matplotlib.pyplot as plt\n",
    "from sklearn.model_selection import train_test_split\n",
    "from sklearn.linear_model import LinearRegression\n",
    "from sklearn import metrics\n",
    "from sklearn.model_selection import cross_val_score\n",
    "\n",
    "# x is the input, and what we are training to find a relationship from. We try different sets of\n",
    "# values until we find one appropriate\n",
    "\n",
    "x = new_salaries_df['edu_no']\n",
    "x = np.asarray(x)\n",
    "pd.to_numeric(x)\n",
    "X = x[:, np.newaxis]\n",
    "\n",
    "#y is the output, and what we are trying to predict. Therefore, Y will always be the salaries.\n",
    "y = new_salaries_df['salary']\n",
    "\n",
    "plt.scatter(x, y, s=10, marker='x', alpha=0.1)\n",
    "# alpha helps me to see grouping in the data\n",
    "plt.xlabel('edu_no')\n",
    "plt.ylabel('salary')\n",
    "\n",
    "#given a new x value, can the y value be predicted?\n",
    "x_train, x_test, y_train, y_test = train_test_split(X, y, test_size = 0.3)\n",
    "linreg = LinearRegression()\n",
    "linreg.fit(x_train, y_train)\n",
    "print('The linear regression function learned between x an y is: y = ', linreg.intercept_, ' + ', linreg.coef_, ' * x')\n",
    "\n",
    "y_pred = linreg.predict(x_test)\n",
    "print(metrics.mean_squared_error(y_test, y_pred))\n",
    "\n",
    "linreg1 = LinearRegression()\n",
    "print(\"Which cross evaluates to:\", cross_val_score(linreg1, X, y, cv=10, scoring='neg_mean_squared_error')*-1 , \" with a mean cross score of:\", cross_val_score(linreg1, X, y, cv=10, scoring='neg_mean_squared_error').mean()*-1, \"and a standard deviation of: \", cross_val_score(linreg1, X, y, cv=10, scoring='neg_mean_squared_error').std())"
   ]
  },
  {
   "cell_type": "markdown",
   "metadata": {},
   "source": [
    "- The model takes in the values in the data frame column specified ('edu_no') and also takes in the values from the 'salary' column as y. To help visualise, it outputs this as a scatter graph using the function plt.scatter() which takes in the aforementioned columns and then a parameter for an alpha value which helps me to see overlapping plots based on density.\n",
    "- The actual training of the model takes these series 'edu_no' and 'salary', before making a linearRegression object and making them fit. The object then is able to predict the values of y and tell you how accurate it was. The whole function returns what the function learned was, the mean squared error and the cross evaluation score."
   ]
  },
  {
   "cell_type": "markdown",
   "metadata": {},
   "source": [
    "<b>Question 2b.</b> (5 marks) <br>\n",
    "Show the code which evaluates the trained linear regression model, and explain the parameters used in the function.<br>\n",
    "What does your evaluation mean in terms of predicting salaries? Is this a good model for future prediction?"
   ]
  },
  {
   "cell_type": "code",
   "execution_count": 10,
   "metadata": {},
   "outputs": [
    {
     "name": "stdout",
     "output_type": "stream",
     "text": [
      "Mean Squared Error:  0.16898746856065675\n",
      "Which cross evaluates to:  [0.17541881 0.16374455 0.16432744 0.16689758 0.1759918  0.1660755\n",
      " 0.1636748  0.16491168 0.179577   0.16442313] with a mean cross score of: 0.1685042284898125 and a standard deviation of: 0.005726663255223175\n"
     ]
    },
    {
     "data": {
      "text/plain": [
       "LinearRegression()"
      ]
     },
     "execution_count": 10,
     "metadata": {},
     "output_type": "execute_result"
    }
   ],
   "source": [
    "y_pred = linreg.predict(x_test)\n",
    "print(\"Mean Squared Error: \", metrics.mean_squared_error(y_test, y_pred))\n",
    "\n",
    "linreg1 = LinearRegression()\n",
    "print(\"Which cross evaluates to: \", cross_val_score(linreg1, X, y, cv=10, scoring='neg_mean_squared_error')*-1 , \"with a mean cross score of:\", cross_val_score(linreg1, X, y, cv=10, scoring='neg_mean_squared_error').mean()*-1, \"and a standard deviation of:\", cross_val_score(linreg1, X, y, cv=10, scoring='neg_mean_squared_error').std())\n",
    "linreg1"
   ]
  },
  {
   "cell_type": "markdown",
   "metadata": {},
   "source": [
    "- The cross_val_score function is used here to score the model. It takes in the model lr1 as the evaluator, a fresh LinearRegression object. It also takes in x and y again as defined earlier, these being the data to fit and the target data respectively. cv is the cross fold score which means that in my case the model is split 10 times. The value of scoring tells the function what method to use when returning the score.\n",
    "- The code has a mean squared error of approximately 0.75 (on average) where the best value is 0.0. This suggests to me that actually the model is wildly inaccurate and therefore is likely not a good model for future prediction, despite the high cross evaluation score."
   ]
  },
  {
   "cell_type": "markdown",
   "metadata": {},
   "source": [
    "<b>Question 2c.</b> (5 marks)<br>\n",
    "Study the coefficients found in the trained model.<br>\n",
    "Which three features are the most important to predict people's salary?<br>\n",
    "Are these three important features reliable predicting people's salary? Why?"
   ]
  },
  {
   "cell_type": "code",
   "execution_count": 11,
   "metadata": {
    "tags": []
   },
   "outputs": [
    {
     "name": "stdout",
     "output_type": "stream",
     "text": [
      "The linear regression function learned between x an y is: y =  -0.35065725857557956  +  [0.05884437]  * x\n"
     ]
    }
   ],
   "source": [
    "print('The linear regression function learned between x an y is: y = ', linreg.intercept_, ' + ', linreg.coef_, ' * x')"
   ]
  },
  {
   "cell_type": "markdown",
   "metadata": {},
   "source": [
    "- coef for edu_no: 0.11886188, cross eval:  0.67401691395925\n",
    "- coef for class: 0.04038983, cross eval: 0.7491811377673281\n",
    "- coef for marital: 0.05790398, cross eval: 0.19251625\n",
    "- coef for education: 0.03513384, cross eval: 0.7268566163666454\n",
    "- coef for hr_wk: 0.01587986, cross eval: 0.7166390277235959\n",
    "- coef for age: 0.01449842, cross eval:  0.7132771861993035\n",
    "- coef for occupation: -0.00438424, cross eval: 0.18597919746645186\n",
    "- coef for gender: -0.4052586, cross eval: 0.7194483297449479"
   ]
  },
  {
   "cell_type": "markdown",
   "metadata": {},
   "source": [
    "- marital has the highest coefficient\n",
    "- gender has the lowest coefficient\n",
    "- edu_no, class and education appear to be the most important factors in predicting salary. This makes some sense in the idea that if you are better educated you can achieve a higher paying job, and people with a higher class are likely to have better jobs as they need to have a source of income to maintain social status. \n",
    "- Going purely from this information it appears that these pieces of data are important, however hr_wk is in the bottom 3 and I would guess that working more hours a week at a lower salary will in most cases earn more money than someone working less hours at a higher salary (10 hours at 20 an hour vs 40 hours at 8 an hour)."
   ]
  },
  {
   "cell_type": "markdown",
   "metadata": {},
   "source": [
    "<b>Question 2d.</b> (5 marks)<br>\n",
    "Based on the above analysis, breifly explain if linear regression is a good machine learning model for this task."
   ]
  },
  {
   "cell_type": "markdown",
   "metadata": {},
   "source": [
    "- Because the data lines up with real world heuristics, It can be seen as somewhat accurate.\n",
    "- It always (except for in the case of 'marital status' and 'occupation') cross evaluates to above 0.5 which means it is better than a random guess for most cases.\n",
    "- However, I do not believe it is truly accurate or a good model for this task as essentially a linear regression model is just a line of best fit and in the case of my data set, the values of outcome are either -1 or 1 and therefore a line of best fit would have to be 'made to fit'. As I mentioned earlier, there is also an approximately 75% mean squared error in each of the values. This both provides evidence that the line of best fit doesn't work for binary values and that this is not a good model for this task."
   ]
  },
  {
   "cell_type": "markdown",
   "metadata": {
    "tags": []
   },
   "source": [
    "## Question 3. Decision Tree [35 marks]"
   ]
  },
  {
   "cell_type": "markdown",
   "metadata": {},
   "source": [
    "<b>Question 3a.</b> (2 marks)<br>\n",
    "Build a decision tree to predict people's salaries. Briefly explain the data used in the training."
   ]
  },
  {
   "cell_type": "code",
   "execution_count": 12,
   "metadata": {},
   "outputs": [
    {
     "data": {
      "text/plain": [
       "[Text(502.20000000000005, 733.86, 'marital <= 0.5\\ngini = 0.375\\nsamples = 4695\\nvalue = [3520, 1175]\\nclass = <=50k'),\n",
       " Text(251.10000000000002, 570.78, 'age <= 33.5\\ngini = 0.091\\nsamples = 1531\\nvalue = [1458, 73]\\nclass = <=50k'),\n",
       " Text(125.55000000000001, 407.70000000000005, 'edu_no <= 12.5\\ngini = 0.042\\nsamples = 1153\\nvalue = [1128, 25]\\nclass = <=50k'),\n",
       " Text(62.775000000000006, 244.62, 'occupation <= 6.5\\ngini = 0.013\\nsamples = 911\\nvalue = [905, 6]\\nclass = <=50k'),\n",
       " Text(31.387500000000003, 81.54000000000008, 'gini = 0.024\\nsamples = 498\\nvalue = [492, 6]\\nclass = <=50k'),\n",
       " Text(94.16250000000001, 81.54000000000008, 'gini = 0.0\\nsamples = 413\\nvalue = [413, 0]\\nclass = <=50k'),\n",
       " Text(188.32500000000002, 244.62, 'age <= 26.5\\ngini = 0.145\\nsamples = 242\\nvalue = [223, 19]\\nclass = <=50k'),\n",
       " Text(156.9375, 81.54000000000008, 'gini = 0.073\\nsamples = 132\\nvalue = [127, 5]\\nclass = <=50k'),\n",
       " Text(219.71250000000003, 81.54000000000008, 'gini = 0.222\\nsamples = 110\\nvalue = [96, 14]\\nclass = <=50k'),\n",
       " Text(376.65000000000003, 407.70000000000005, 'hr_wk <= 40.5\\ngini = 0.222\\nsamples = 378\\nvalue = [330, 48]\\nclass = <=50k'),\n",
       " Text(313.875, 244.62, 'age <= 74.5\\ngini = 0.135\\nsamples = 260\\nvalue = [241, 19]\\nclass = <=50k'),\n",
       " Text(282.4875, 81.54000000000008, 'gini = 0.124\\nsamples = 257\\nvalue = [240, 17]\\nclass = <=50k'),\n",
       " Text(345.26250000000005, 81.54000000000008, 'gini = 0.444\\nsamples = 3\\nvalue = [1, 2]\\nclass = >50k'),\n",
       " Text(439.42500000000007, 244.62, 'edu_no <= 13.5\\ngini = 0.371\\nsamples = 118\\nvalue = [89, 29]\\nclass = <=50k'),\n",
       " Text(408.0375, 81.54000000000008, 'gini = 0.3\\nsamples = 98\\nvalue = [80, 18]\\nclass = <=50k'),\n",
       " Text(470.81250000000006, 81.54000000000008, 'gini = 0.495\\nsamples = 20\\nvalue = [9, 11]\\nclass = >50k'),\n",
       " Text(753.3000000000001, 570.78, 'marital <= 1.5\\ngini = 0.454\\nsamples = 3164\\nvalue = [2062, 1102]\\nclass = <=50k'),\n",
       " Text(627.75, 407.70000000000005, 'edu_no <= 11.5\\ngini = 0.498\\nsamples = 2158\\nvalue = [1145, 1013]\\nclass = <=50k'),\n",
       " Text(564.975, 244.62, 'age <= 30.5\\ngini = 0.453\\nsamples = 1419\\nvalue = [926, 493]\\nclass = <=50k'),\n",
       " Text(533.5875000000001, 81.54000000000008, 'gini = 0.232\\nsamples = 216\\nvalue = [187, 29]\\nclass = <=50k'),\n",
       " Text(596.3625000000001, 81.54000000000008, 'gini = 0.474\\nsamples = 1203\\nvalue = [739, 464]\\nclass = <=50k'),\n",
       " Text(690.5250000000001, 244.62, 'age <= 28.5\\ngini = 0.417\\nsamples = 739\\nvalue = [219, 520]\\nclass = >50k'),\n",
       " Text(659.1375, 81.54000000000008, 'gini = 0.474\\nsamples = 44\\nvalue = [27, 17]\\nclass = <=50k'),\n",
       " Text(721.9125, 81.54000000000008, 'gini = 0.4\\nsamples = 695\\nvalue = [192, 503]\\nclass = >50k'),\n",
       " Text(878.8500000000001, 407.70000000000005, 'edu_no <= 12.5\\ngini = 0.161\\nsamples = 1006\\nvalue = [917, 89]\\nclass = <=50k'),\n",
       " Text(816.075, 244.62, 'hr_wk <= 83.0\\ngini = 0.095\\nsamples = 821\\nvalue = [780, 41]\\nclass = <=50k'),\n",
       " Text(784.6875000000001, 81.54000000000008, 'gini = 0.091\\nsamples = 819\\nvalue = [780, 39]\\nclass = <=50k'),\n",
       " Text(847.4625000000001, 81.54000000000008, 'gini = 0.0\\nsamples = 2\\nvalue = [0, 2]\\nclass = >50k'),\n",
       " Text(941.6250000000001, 244.62, 'hr_wk <= 61.0\\ngini = 0.384\\nsamples = 185\\nvalue = [137, 48]\\nclass = <=50k'),\n",
       " Text(910.2375000000001, 81.54000000000008, 'gini = 0.351\\nsamples = 176\\nvalue = [136, 40]\\nclass = <=50k'),\n",
       " Text(973.0125, 81.54000000000008, 'gini = 0.198\\nsamples = 9\\nvalue = [1, 8]\\nclass = >50k')]"
      ]
     },
     "execution_count": 12,
     "metadata": {},
     "output_type": "execute_result"
    },
    {
     "data": {
      "image/png": "[encoded data removed]",
      "text/plain": [
       "<Figure size 1296x1080 with 1 Axes>"
      ]
     },
     "metadata": {
      "needs_background": "light"
     },
     "output_type": "display_data"
    }
   ],
   "source": [
    "from sklearn.tree import DecisionTreeClassifier\n",
    "from sklearn.tree import DecisionTreeClassifier as a\n",
    "from sklearn.multioutput import MultiOutputClassifier\n",
    "from sklearn.model_selection import cross_val_score\n",
    "from sklearn.model_selection import train_test_split\n",
    "from sklearn.metrics import confusion_matrix\n",
    "from sklearn import metrics\n",
    "from sklearn import tree\n",
    "\n",
    "newer_salaries_df = new_salaries_df.copy()\n",
    "# x is the input, and what we are training to find a relationship from. We try different sets of\n",
    "# values until we find one appropriate\n",
    "x = new_salaries_df.drop('salary', axis = 1)\n",
    "#y is the output, and what we are trying to predict. Therefore, Y will always be the salaries.\n",
    "y = (newer_salaries_df['salary'])\n",
    "\n",
    "#given a new x value, can the y value be predicted?\n",
    "x_train, x_test, y_train, y_test = train_test_split(x, y, test_size = 0.5)\n",
    "\n",
    "tree_model = DecisionTreeClassifier(max_depth = 4)\n",
    "tree_model.fit(x_train, y_train)\n",
    "\n",
    "# print(cross_val_score(tree_model, new_salaries_df, newer_salaries_df, cv=5, scoring='accuracy'))\n",
    "plt.figure(figsize=(18,15))\n",
    "tree.plot_tree(tree_model, filled=True, feature_names = ['age','class','education','edu_no','marital','occupation','gender','hr_wk'], class_names = ['<=50k','>50k'] , fontsize=8)"
   ]
  },
  {
   "cell_type": "markdown",
   "metadata": {},
   "source": [
    "Gini index or Gini impurity measures the degree or probability of a particular variable being wrongly classified when it is randomly chosen."
   ]
  },
  {
   "cell_type": "markdown",
   "metadata": {},
   "source": [
    "<b>Question 3b.</b> (2 marks)<br>\n",
    "Evaluate the decison tree model you built. Show your code to explain if this is a good model of reliable performance predicting salaries."
   ]
  },
  {
   "cell_type": "code",
   "execution_count": 13,
   "metadata": {
    "tags": []
   },
   "outputs": [
    {
     "name": "stdout",
     "output_type": "stream",
     "text": [
      "Training accuracy:  0.8185303514376997\n",
      "Testing accuracy:  0.8138841567291312\n"
     ]
    }
   ],
   "source": [
    "print(\"Training accuracy: \" , metrics.accuracy_score(y_train, tree_model.predict(x_train)))\n",
    "print(\"Testing accuracy: \" , metrics.accuracy_score(y_test, tree_model.predict(x_test)))"
   ]
  },
  {
   "cell_type": "markdown",
   "metadata": {},
   "source": [
    "- The accuracy of the training data is very high (approximately 0.81 where the best value is 1) as well as the overall test accuracy being within the same range. This implies that the model is generally considered good and is reliable at predicting salaries."
   ]
  },
  {
   "cell_type": "markdown",
   "metadata": {},
   "source": [
    "<b>Question 3c.</b> (8 marks)<br>\n",
    "Using confusion matrix, analyse the accuracy of the decision tree you trianed.<br>\n",
    "    - Is your decision tree model better at classifying people with salaries <=50k, or better at classifying people with > 50k?<br>\n",
    "    - Show the function / technique / matrix you used, and explain the reasons to support your answers."
   ]
  },
  {
   "cell_type": "code",
   "execution_count": 14,
   "metadata": {},
   "outputs": [
    {
     "name": "stdout",
     "output_type": "stream",
     "text": [
      "[[3318  188]\n",
      " [ 686  504]]\n",
      "Over 50k:  0.7283236994219653\n",
      "Under 50k:  0.8286713286713286\n"
     ]
    }
   ],
   "source": [
    "cm = confusion_matrix(y_test, tree_model.predict(x_test))\n",
    "print(cm)\n",
    "print('Over 50k: ', cm[1,1] / (cm[0,1]+cm[1,1]))\n",
    "print('Under 50k: ', cm[0,0] / (cm[1,0]+cm[0,0]) )"
   ]
  },
  {
   "cell_type": "markdown",
   "metadata": {},
   "source": [
    "- The accuracy of my decision tree shows that it is better at classifying people whose salaries lie under 50k and I have used a confusion matrix to help show and prove this. It had on average an over 82% success rate with under 50k compared to an average 71% success rate with over 50k. While both of these are good, generally speaking the model is better at clarifying those under 50k. I used the confusion matrix printed above and got the results shown above also to determine this result"
   ]
  },
  {
   "cell_type": "markdown",
   "metadata": {},
   "source": [
    "<b> Question 3d.</b> (12 marks)<br>\n",
    "Observe your trained tree.<br>\n",
    "    - What are the most important three features to predict people's salary?<br>\n",
    "    - Compared with those observed from your linear regression model, which three features are the more reliable predicting people's salary? Breifly expalin your reasons.<br>\n",
    "    - List the rule(s) you could extract from the tree which classify people who earn >50k.<br>\n",
    "    - Can you predict if someone who has been married for 6 years can earn <=50k or >50k? How reliable is your predcition, i.e. what's the probability that the prediction is wrong? Brelfy explain the reason to support your answer."
   ]
  },
  {
   "cell_type": "markdown",
   "metadata": {},
   "source": [
    "In the below code, class 0 is less than 50k whereas class 1 is above 50k"
   ]
  },
  {
   "cell_type": "code",
   "execution_count": 15,
   "metadata": {},
   "outputs": [
    {
     "name": "stdout",
     "output_type": "stream",
     "text": [
      "|--- marital <= 0.50\n",
      "|   |--- age <= 33.50\n",
      "|   |   |--- edu_no <= 12.50\n",
      "|   |   |   |--- occupation <= 6.50\n",
      "|   |   |   |   |--- class: 0\n",
      "|   |   |   |--- occupation >  6.50\n",
      "|   |   |   |   |--- class: 0\n",
      "|   |   |--- edu_no >  12.50\n",
      "|   |   |   |--- age <= 26.50\n",
      "|   |   |   |   |--- class: 0\n",
      "|   |   |   |--- age >  26.50\n",
      "|   |   |   |   |--- class: 0\n",
      "|   |--- age >  33.50\n",
      "|   |   |--- hr_wk <= 40.50\n",
      "|   |   |   |--- age <= 74.50\n",
      "|   |   |   |   |--- class: 0\n",
      "|   |   |   |--- age >  74.50\n",
      "|   |   |   |   |--- class: 1\n",
      "|   |   |--- hr_wk >  40.50\n",
      "|   |   |   |--- edu_no <= 13.50\n",
      "|   |   |   |   |--- class: 0\n",
      "|   |   |   |--- edu_no >  13.50\n",
      "|   |   |   |   |--- class: 1\n",
      "|--- marital >  0.50\n",
      "|   |--- marital <= 1.50\n",
      "|   |   |--- edu_no <= 11.50\n",
      "|   |   |   |--- age <= 30.50\n",
      "|   |   |   |   |--- class: 0\n",
      "|   |   |   |--- age >  30.50\n",
      "|   |   |   |   |--- class: 0\n",
      "|   |   |--- edu_no >  11.50\n",
      "|   |   |   |--- age <= 28.50\n",
      "|   |   |   |   |--- class: 0\n",
      "|   |   |   |--- age >  28.50\n",
      "|   |   |   |   |--- class: 1\n",
      "|   |--- marital >  1.50\n",
      "|   |   |--- edu_no <= 12.50\n",
      "|   |   |   |--- hr_wk <= 83.00\n",
      "|   |   |   |   |--- class: 0\n",
      "|   |   |   |--- hr_wk >  83.00\n",
      "|   |   |   |   |--- class: 1\n",
      "|   |   |--- edu_no >  12.50\n",
      "|   |   |   |--- hr_wk <= 61.00\n",
      "|   |   |   |   |--- class: 0\n",
      "|   |   |   |--- hr_wk >  61.00\n",
      "|   |   |   |   |--- class: 1\n",
      "\n"
     ]
    }
   ],
   "source": [
    "treetext = tree.export_text(tree_model, feature_names=['age','class','education','edu_no','marital','occupation','gender','hr_wk'])\n",
    "print(treetext)"
   ]
  },
  {
   "cell_type": "markdown",
   "metadata": {},
   "source": [
    "- The three most important features are: marital status, years in education and age.\n",
    "- The rules we can extract from the tree are as shown above:  \n",
    "    * if you have never married, spent less than 12.5 years in education and are above 74 years old then you will earn over 50k a year\n",
    "    * if you are 'married-civ-spouse' and have spent longer than 11.5 years in education as someone over the age of 28.5 then you will earn over 50k a year. \n",
    "    * if you have been married but not in the category of 'married-civ-spouse' and spent more than 14.5 years in education then you will earn 50k a year.\n",
    "- There does not appear to be a way to tell who has been married for 6 years, however people that have been married can be predicted with a 54.3% accuracy. This has approximately a 0.457 chance of being wrong as evidenced by the Gini index of 0.457 as stated on the model itself."
   ]
  },
  {
   "cell_type": "markdown",
   "metadata": {},
   "source": [
    "<b>Question 3e.</b> (11 marks)<br>\n",
    "Experiment with different decision trees of different settings and observe their performance.<br>\n",
    "Which decision tree of what settings (e.g. depth, trained by what k value in k-fold validation, etc.) would you use?<br>\n",
    "Briefly explain the reasons for your chosen model w.r.t. the accuracy, overfitting, features, true positive and/or true negative."
   ]
  },
  {
   "cell_type": "markdown",
   "metadata": {},
   "source": [
    "- I found that using a max depth of 4 provided the most even balance of testing accuracy to training accuracy and was therefore my preferred model to use as otherwise it started to be less accurate when testing. This could show that the data was being overfitted.\n",
    "- The model showed itself to have an 82% success rate in identifying those earning under 50k and 71% of those earning over 50k, with an approximate testing and training general accuracy of: \n",
    "    * Training accuracy 0.810649627263045\n",
    "    * Testing accuracy: 0.8153747870528109\n",
    "- and therefore I believe that as this is far better than the 50/50 average guess and makes a suitable model for prediction of salaries.\n",
    "- While there were definitely false positives and false negatives in my prediction, I calculated from the confusion matrix that I had an approximately 82% success rate in identifying those earning under 50k a year and 71% success rate in identifying those over 50k a year. This is much better than a random guess which led me to believe that it was a good model to use in this way."
   ]
  },
  {
   "cell_type": "markdown",
   "metadata": {},
   "source": [
    "## Question 4. Neural Network [10 marks]"
   ]
  },
  {
   "cell_type": "markdown",
   "metadata": {},
   "source": [
    "<b>Question 4a.</b> (5 marks)<br>\n",
    "    - Build, train and tune a neural network to predict salaries. Briefly explain the input and output data.<br>\n",
    "    - What's the best accuracy your ANN could achieve on the testing dataset? Is this a good measure, i.e how relaible is the model for future predictions?"
   ]
  },
  {
   "cell_type": "code",
   "execution_count": 16,
   "metadata": {},
   "outputs": [
    {
     "name": "stdout",
     "output_type": "stream",
     "text": [
      "Training accuracy: \t 0.8224554997717937\n"
     ]
    }
   ],
   "source": [
    "from sklearn.model_selection import train_test_split\n",
    "from sklearn.neural_network import MLPClassifier\n",
    "from sklearn import metrics\n",
    "\n",
    "y = newer_salaries_df['salary']\n",
    "x = newer_salaries_df.drop(columns=['salary'])\n",
    "\n",
    "x_train, x_test, y_train, y_test = train_test_split(x, y, test_size = 0.3)\n",
    "\n",
    "ann_model = MLPClassifier(hidden_layer_sizes=(150), max_iter=6000)\n",
    "ann_model.fit(x_train, y_train) \n",
    "\n",
    "y_pred = ann_model.predict(x_train)\n",
    "\n",
    "print('Training accuracy: \\t', metrics.accuracy_score(y_train, y_pred))"
   ]
  },
  {
   "cell_type": "markdown",
   "metadata": {},
   "source": [
    "- The best accuracy I was able to achieve on the dataset was the accuracy of the current model, which when I tested it came out to 0.824737562756732. This uses 150 layers and 6000 iterations. I found that generally the more layers, the more accurate the model was."
   ]
  },
  {
   "cell_type": "markdown",
   "metadata": {},
   "source": [
    "<b>Question 4b.</b> (5 marks)<br>\n",
    "Compare to the decision tree model you built, is your neural network model better at classifying people with <50k, or better at classifying people with > 50k?<br>\n",
    "Explain the reasons to support your answers."
   ]
  },
  {
   "cell_type": "code",
   "execution_count": 17,
   "metadata": {},
   "outputs": [
    {
     "name": "stdout",
     "output_type": "stream",
     "text": [
      "[[1957  156]\n",
      " [ 395  310]]\n",
      "Over 50k:  0.6652360515021459\n",
      "Under 50k:  0.8320578231292517\n"
     ]
    }
   ],
   "source": [
    "cm = confusion_matrix(y_test, ann_model.predict(x_test))\n",
    "print(cm)\n",
    "print('Over 50k: ', cm[1,1] / (cm[0,1]+cm[1,1]))\n",
    "print('Under 50k: ', cm[0,0] / (cm[1,0]+cm[0,0]) )"
   ]
  },
  {
   "cell_type": "markdown",
   "metadata": {
    "tags": []
   },
   "source": [
    "- The accuracy of my model shows that it is better at classifying people whose salaries lie under 50k as I have used a confusion matrix to help tme analyse this. It had on average an over 83% average success rate with under 50k compared to an average 68% success rate with over 50k. While both of these are good, generally speaking the model is better at clarifying those under 50k. I used the data above to help me to confirm my answers."
   ]
  },
  {
   "cell_type": "markdown",
   "metadata": {
    "tags": []
   },
   "source": [
    "## Question 5. Summary [5 marks]\n",
    "\n",
    "With all the above observations from the machine learning models, what would you suggest to do to improve the accuracy in predicting people's salaries?<br>\n",
    "Provide necessary data analysis if you like to support your suggestion."
   ]
  },
  {
   "cell_type": "markdown",
   "metadata": {},
   "source": [
    "- As is with most models, more data means more to train on and therefore a greater overall understanding of the dataset by the model, which leads to generally better predictions and overall better performance. If there is more data to extract patterns from then more patterns are seen.\n",
    "    * It appears that the ANN model once properly trained is the best model to use for predicting salaries, and this is likely due to the number of hidden neurons which should be less than approximately twice the size of the input layer. I found very little performance improvement after around a value of 150 for the hidden layer size but through copious tests the variation of the training accuracy was quite large. It had an approximate\n",
    "    * With regards to my decision tree\n",
    "    * Linear Regression was vastly outperformed by the other models and due to the nature of how it processing the data, is generally not a good model to be used.\n",
    "- I would suggest because of these statements that you should use an ANN model with 150 as the layer size and 6000 iterations on a data set of larger size and with more comprehensive data.\n",
    "- I could have also used seeds along with the data to make it repeat a single random state on the data so that the results are consistent, however because data is random I would suggest to someone else that they use averages as a method of displaying results as you could come across a state which is generally quite poorly predicted and itself considered an outlier of the model.\n"
   ]
  },
  {
   "cell_type": "markdown",
   "metadata": {},
   "source": [
    "## Appendix. Coursework Instructions\n",
    "\n",
    "<b>Main tasks</b>: to build and analyse different machine learning models for a classification task. Support of coursework include:\n",
    "- Lab tutorials on data processing and machine learning models using different functions and methods in Python libraries on different example problems;\n",
    "- Example code building and analysing machine learning models, referring to content in COMP1008 lecture on “Machine learning”.\n",
    "- Q&A support for developing three .ipynb projects in the labs to build different models using different functions on example problems.\n",
    "- In labs and Teams channel 'COMP1008 labs': support of common questions in completing the coursework.\n",
    "\n",
    "<b>Marks</b>: in total 100 marks (count for 25% in COMP1008), awarded on the basis of:\n",
    "- knowledge and understanding showed when answering the questions in the Jupyter Notebook file report,\n",
    "- how informative and well presented your code, visualisations and results are (e.g. necessary labels in plots),\n",
    "- self-learning ability making use of tutorial materials and online resources,\n",
    "- problem solving skills to obtain the answers and results,\n",
    "- concise language in the report, i.e. key details such as parameters, data, etc. for others to repeat your methods and obtain the same results."
   ]
  },
  {
   "cell_type": "markdown",
   "metadata": {},
   "source": [
    "<b>Format</b>:\n",
    "- One single .ipynb file named 202122COMP1008cw-XXX.ipynb, where XXX is your username (e.g. psxyz).<br>\n",
    "- The .ipynb file should include your code and answers, using the above given .ipynb template (please add cells as needed).\n",
    "- You could use additional Python libraries as you wish, in addition to the ones demonstrated in the labs.\n",
    "- There are multiple ways using different functions to do the analysis. These are fine as long as all answers and analysis are supported by the code implemented in Jupyter Notebook, not by using other means (e.g. operations in Excel, or by using other languages, etc.).\n",
    "- More details are given in the <a href=\"https://moodle.nottingham.ac.uk/pluginfile.php/7527571/mod_tabbedcontent/tabcontent/26383/202122%20Assessment%20Sheet%20COMP1008.pdf?time=1645773629043\">COMP1008 coursework issue form</a>.\n",
    "\n",
    "<b>Submission</b>: \n",
    "- Deadline: 28th March 2022 3pm.\n",
    "- Late submission leads to a 5% deduction of your coursework mark on each weekday.<br>\n",
    "Any work submitted one week late will receive a zero mark for the coursework.\n",
    "- Method: in Moodle submit a single .ipynb file named 202122COMP1008cw-XXX.ipynb, please replace XXX with your username (e.g. psxyz).\n",
    "- If you can’t submit your coursework on time due to ECs, please contact Student Services and your personal tutor ASAP."
   ]
  },
  {
   "cell_type": "markdown",
   "metadata": {
    "tags": []
   },
   "source": [
    "<b>Note: Plagiarism vs. Group Discussions</b> \n",
    "\n",
    "As you should know, plagiarism is completely unacceptable and will be dealt with according to University's standard policies.<br>\n",
    "Students are encouraged to have only general discussions on the theory (not the specific questions) when completing the coursework.<br>\n",
    "It is important that when you actually do your coursework and write the answers, you do it individually.<br>\n",
    "Do NOT, under any circumstances, share your report, code or figures, etc. with anyone else."
   ]
  }
 ],
 "metadata": {
  "kernelspec": {
   "display_name": "Python 3 (ipykernel)",
   "language": "python",
   "name": "python3"
  },
  "language_info": {
   "codemirror_mode": {
    "name": "ipython",
    "version": 3
   },
   "file_extension": ".py",
   "mimetype": "text/x-python",
   "name": "python",
   "nbconvert_exporter": "python",
   "pygments_lexer": "ipython3",
   "version": "3.9.7"
  }
 },
 "nbformat": 4,
 "nbformat_minor": 4
}
